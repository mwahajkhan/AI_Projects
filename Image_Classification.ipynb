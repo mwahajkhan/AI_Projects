{
  "nbformat": 4,
  "nbformat_minor": 0,
  "metadata": {
    "colab": {
      "provenance": [],
      "authorship_tag": "ABX9TyMAA7+5qgj6beFMKG6ravAC",
      "include_colab_link": true
    },
    "kernelspec": {
      "name": "python3",
      "display_name": "Python 3"
    },
    "language_info": {
      "name": "python"
    }
  },
  "cells": [
    {
      "cell_type": "markdown",
      "metadata": {
        "id": "view-in-github",
        "colab_type": "text"
      },
      "source": [
        "<a href=\"https://colab.research.google.com/github/mwahajkhan/AI_Projects/blob/main/Image_Classification.ipynb\" target=\"_parent\"><img src=\"https://colab.research.google.com/assets/colab-badge.svg\" alt=\"Open In Colab\"/></a>"
      ]
    },
    {
      "cell_type": "code",
      "execution_count": null,
      "metadata": {
        "colab": {
          "base_uri": "https://localhost:8080/"
        },
        "id": "p529u8qlOGeh",
        "outputId": "8e332ee0-f0ca-403a-ac74-61804d42f40d"
      },
      "outputs": [
        {
          "output_type": "stream",
          "name": "stdout",
          "text": [
            "Epoch 1/10\n",
            "1563/1563 [==============================] - 73s 46ms/step - loss: 1.5227 - accuracy: 0.4452 - val_loss: 1.3282 - val_accuracy: 0.5190\n",
            "Epoch 2/10\n",
            "1563/1563 [==============================] - 67s 43ms/step - loss: 1.1705 - accuracy: 0.5844 - val_loss: 1.1587 - val_accuracy: 0.5928\n",
            "Epoch 3/10\n",
            "1563/1563 [==============================] - 69s 44ms/step - loss: 1.0181 - accuracy: 0.6400 - val_loss: 1.0038 - val_accuracy: 0.6494\n",
            "Epoch 4/10\n",
            "1563/1563 [==============================] - 71s 45ms/step - loss: 0.9134 - accuracy: 0.6788 - val_loss: 0.9641 - val_accuracy: 0.6647\n",
            "Epoch 5/10\n",
            "1563/1563 [==============================] - 70s 45ms/step - loss: 0.8404 - accuracy: 0.7052 - val_loss: 0.9602 - val_accuracy: 0.6778\n",
            "Epoch 6/10\n",
            "1563/1563 [==============================] - 69s 44ms/step - loss: 0.7770 - accuracy: 0.7273 - val_loss: 0.9468 - val_accuracy: 0.6764\n",
            "Epoch 7/10\n",
            "1011/1563 [==================>...........] - ETA: 23s - loss: 0.7229 - accuracy: 0.7457"
          ]
        }
      ],
      "source": [
        "#Importing the libraries\n",
        "import tensorflow as tf\n",
        "from tensorflow.keras import datasets, layers, models\n",
        "\n",
        "#Load CIFAR10 image datset with 60k images in 10 classes, to train & testmodel\n",
        "(train_images, train_labels), (test_images, test_labels) = datasets.cifar10.load_data()\n",
        "\n",
        "#Normalize pixel values between 0 & 1, a common step, aids in further calculations\n",
        "train_images, test_images = train_images / 255.0, test_images /255.0\n",
        "\n",
        "#Define model structure, initialize model with Sequential API from keras\n",
        "#Model is composed of linear stack of layers\n",
        "model = models.Sequential()\n",
        "\n",
        "#Adding Convonutional and pruning layers\n",
        "#Convonutional layers in image processing to learn spatial heirarchies of features\n",
        "\n",
        "model.add(layers.Conv2D(32, (3, 3), activation='relu', input_shape=(32, 32, 3)))\n",
        "model.add(layers.MaxPooling2D((2, 2)))\n",
        "model.add(layers.Conv2D(64, (3, 3), activation='relu'))\n",
        "model.add(layers.MaxPooling2D((2, 2)))\n",
        "model.add(layers.Conv2D(64, (3, 3), activation='relu'))\n",
        "\n",
        "\n",
        "#Add dense layers on top\n",
        "#Connected layers with all neurons in one layer\n",
        "#Decision maker on the output from Convonu layers\n",
        "#Flatten layer to convert the 2d features matrix to a vector to be fed in\n",
        "model.add(layers.Flatten())\n",
        "model.add(layers.Dense(64, activation='relu'))\n",
        "model.add(layers.Dense(10))\n",
        "\n",
        "#Compile and train model\n",
        "#Adam Optimizer function, loss function & metrics function\n",
        "#Optimizer which model uses to minimize loss function\n",
        "#Loss function finds the difference between prediction & actual data\n",
        "#Metrics tell the performance of model\n",
        "#Accuracy is proportional to amount of correct predictions\n",
        "\n",
        "model.compile(optimizer='adam',\n",
        "              loss=tf.keras.losses.SparseCategoricalCrossentropy(from_logits=True),\n",
        "              metrics=['accuracy'])\n",
        "\n",
        "\n",
        "\n",
        "#Compile and train the model\n",
        "#training data, provide labels, images and number of epochs (iterations dataset run)\n",
        "history = model.fit(train_images, train_labels, epochs=10,\n",
        "                    validation_data=(test_images, test_labels))\n",
        "\n",
        "#Evaluate the model, pass in testing data, model evaluates loss, and specified metrics\n",
        "test_loss, test_acc = model.evaluate(test_images, test_labels, verbose=2)\n",
        "\n",
        "print('/nTest Accuracu: ', test_acc)\n",
        "\n",
        "\n"
      ]
    }
  ]
}