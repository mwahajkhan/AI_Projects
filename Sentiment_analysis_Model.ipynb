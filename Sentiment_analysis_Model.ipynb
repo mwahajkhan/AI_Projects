{
  "nbformat": 4,
  "nbformat_minor": 0,
  "metadata": {
    "colab": {
      "provenance": [],
      "authorship_tag": "ABX9TyOVz4YTALMW9+pcIvuR9b75",
      "include_colab_link": true
    },
    "kernelspec": {
      "name": "python3",
      "display_name": "Python 3"
    },
    "language_info": {
      "name": "python"
    }
  },
  "cells": [
    {
      "cell_type": "markdown",
      "metadata": {
        "id": "view-in-github",
        "colab_type": "text"
      },
      "source": [
        "<a href=\"https://colab.research.google.com/github/mwahajkhan/AI_Projects/blob/main/Sentiment_analysis_Model.ipynb\" target=\"_parent\"><img src=\"https://colab.research.google.com/assets/colab-badge.svg\" alt=\"Open In Colab\"/></a>"
      ]
    },
    {
      "cell_type": "markdown",
      "source": [
        "> Import nltk and movie_reviews module\n",
        "\n",
        "> Importing NaiveBayesClassifier\n",
        "\n",
        "> Import accuracy to evaluate accuracy"
      ],
      "metadata": {
        "id": "HZZHIt__Xyu5"
      }
    },
    {
      "cell_type": "code",
      "source": [
        "import nltk\n",
        "from nltk.corpus import movie_reviews\n",
        "from nltk.classify import NaiveBayesClassifier\n",
        "from nltk.classify.util import accuracy\n",
        "import random\n",
        "nltk.download('movie_reviews')"
      ],
      "metadata": {
        "colab": {
          "base_uri": "https://localhost:8080/"
        },
        "id": "fAzOXweZXUOK",
        "outputId": "a683426d-96a5-4880-f40b-f163f7c45ccb"
      },
      "execution_count": 14,
      "outputs": [
        {
          "output_type": "stream",
          "name": "stderr",
          "text": [
            "[nltk_data] Downloading package movie_reviews to /root/nltk_data...\n",
            "[nltk_data]   Package movie_reviews is already up-to-date!\n"
          ]
        },
        {
          "output_type": "execute_result",
          "data": {
            "text/plain": [
              "True"
            ]
          },
          "metadata": {},
          "execution_count": 14
        }
      ]
    },
    {
      "cell_type": "markdown",
      "source": [
        "> Preparing dataset from list of documents, each document is represented as a tuple\n",
        "> first element of tuple is list of words in the different documents.\n",
        "> Second is the category, good/posit/negat\n"
      ],
      "metadata": {
        "id": "Or2zig8acuAh"
      }
    },
    {
      "cell_type": "code",
      "source": [
        "documents = [(list(movie_reviews.words(fileid)), category)\n",
        "              for category in movie_reviews.categories()\n",
        "              for fileid in movie_reviews.fileids(category)]\n",
        "\n",
        "# Prepare the dataset\n",
        "documents = [(list(movie_reviews.words(fileid)), category)\n",
        "              for category in movie_reviews.categories()\n",
        "              for fileid in movie_reviews.fileids(category)]"
      ],
      "metadata": {
        "id": "2GUHW7nvbo1Z"
      },
      "execution_count": 15,
      "outputs": []
    },
    {
      "cell_type": "markdown",
      "source": [
        "> Shuffle the order of documents to remove bias"
      ],
      "metadata": {
        "id": "RSXWM3bUdlld"
      }
    },
    {
      "cell_type": "code",
      "source": [
        "# Shuffle the documents\n",
        "random.shuffle(documents)"
      ],
      "metadata": {
        "id": "H2Ci8su5deCc"
      },
      "execution_count": 16,
      "outputs": []
    },
    {
      "cell_type": "markdown",
      "source": [
        "Feature Extraction Function:\n",
        "\n",
        "> Takes a document as input and return a dictionary of differrent features of the document.\n",
        "\n",
        "> Features are the 2000 most common words in the movie_reviews corpus\n",
        "> Value of each of these features is wether or not a word is in that document, to train the classifier"
      ],
      "metadata": {
        "id": "a5Pc7vDIe6w9"
      }
    },
    {
      "cell_type": "code",
      "source": [
        "# Define the feature extractor\n",
        "all_words = nltk.FreqDist(w.lower() for w in movie_reviews.words())\n",
        "word_features = list(all_words)[:2000]"
      ],
      "metadata": {
        "id": "x1TAeUmPgQMI"
      },
      "execution_count": 17,
      "outputs": []
    },
    {
      "cell_type": "code",
      "source": [
        "def document_features(document):\n",
        "    document_words = set(document)\n",
        "    features = {}\n",
        "    for word in word_features:\n",
        "        features['contains({})'.format(word)] = (word in document_words)\n",
        "    return features"
      ],
      "metadata": {
        "id": "tEo7zAoyeUU0"
      },
      "execution_count": 20,
      "outputs": []
    },
    {
      "cell_type": "markdown",
      "source": [
        "> Creating a list of feature sets, where each feature set is a tuple, and consists of a dictionary of features, and a category.\n",
        "> Splits the feature sets into training set and test set.\n",
        "\n",
        "\n",
        "> Using Naive Bayes Classifier on training set. Naive Bayes Classifier is a probabalistic classifier, and based on applying base theorem.\n",
        "\n",
        "> It works by having strong assumptions pn different independencies of different features we created"
      ],
      "metadata": {
        "id": "oMXvK9r4hTbF"
      }
    },
    {
      "cell_type": "code",
      "source": [
        "# Train the classifier\n",
        "featuresets = [(document_features(d), c) for (d,c) in documents]\n",
        "train_set, test_set = featuresets[100:], featuresets[:100]\n",
        "classifier = NaiveBayesClassifier.train(train_set)"
      ],
      "metadata": {
        "collapsed": true,
        "id": "bKEc3pWVgViE"
      },
      "execution_count": 21,
      "outputs": []
    },
    {
      "cell_type": "markdown",
      "source": [
        "> Checking accuracy of the clasifier , using test data provided within the movie_review dataset"
      ],
      "metadata": {
        "id": "j-Ug96Jzi_MP"
      }
    },
    {
      "cell_type": "code",
      "source": [
        "print(accuracy(classifier, test_set))\n",
        "\n"
      ],
      "metadata": {
        "colab": {
          "base_uri": "https://localhost:8080/"
        },
        "collapsed": true,
        "id": "_Af2ROtIiynw",
        "outputId": "4971c774-8204-4e44-d158-68488ad99474"
      },
      "execution_count": 22,
      "outputs": [
        {
          "output_type": "stream",
          "name": "stdout",
          "text": [
            "0.43\n"
          ]
        }
      ]
    },
    {
      "cell_type": "markdown",
      "source": [
        "These are the features important for distinguishing features. For each feature the output will show the ratio of occurrence in each category, and find which one is it more indicative of."
      ],
      "metadata": {
        "id": "QEF-hSYPjkhx"
      }
    },
    {
      "cell_type": "code",
      "source": [
        "classifier.show_most_informative_features(5)"
      ],
      "metadata": {
        "colab": {
          "base_uri": "https://localhost:8080/"
        },
        "collapsed": true,
        "id": "033pWFqVjTOp",
        "outputId": "cc61c26c-45b4-4cb5-dac2-f61c60a0aaee"
      },
      "execution_count": 23,
      "outputs": [
        {
          "output_type": "stream",
          "name": "stdout",
          "text": [
            "Most Informative Features\n",
            "            contains([]) = True              neg : pos    =      1.3 : 1.0\n",
            "            contains([]) = False             pos : neg    =      1.0 : 1.0\n"
          ]
        }
      ]
    },
    {
      "cell_type": "markdown",
      "source": [
        "Entire Code:"
      ],
      "metadata": {
        "id": "fXaXK4U7nOLv"
      }
    },
    {
      "cell_type": "code",
      "source": [
        "import nltk\n",
        "from nltk.corpus import movie_reviews\n",
        "from nltk.classify import NaiveBayesClassifier\n",
        "from nltk.classify.util import accuracy\n",
        "import random\n",
        "nltk.download('movie_reviews')\n",
        "\n",
        "# Prepare the dataset\n",
        "documents = [(list(movie_reviews.words(fileid)), category)\n",
        "              for category in movie_reviews.categories()\n",
        "              for fileid in movie_reviews.fileids(category)]\n",
        "\n",
        "# Shuffle the documents\n",
        "random.shuffle(documents)\n",
        "\n",
        "# Define the feature extractor\n",
        "all_words = nltk.FreqDist(w.lower() for w in movie_reviews.words())\n",
        "word_features = list(all_words)[:2000]\n",
        "\n",
        "def document_features(document):\n",
        "    document_words = set(document)\n",
        "    features = {}\n",
        "    for word in word_features:\n",
        "        features['contains({})'.format(word)] = (word in document_words)\n",
        "    return features\n",
        "\n",
        "# Train the classifier\n",
        "featuresets = [(document_features(d), c) for (d,c) in documents]\n",
        "train_set, test_set = featuresets[100:], featuresets[:100]\n",
        "classifier = NaiveBayesClassifier.train(train_set)\n",
        "\n",
        "# Test the classifier\n",
        "print(accuracy(classifier, test_set))\n",
        "\n",
        "# Show the most important features\n",
        "classifier.show_most_informative_features(5)"
      ],
      "metadata": {
        "colab": {
          "base_uri": "https://localhost:8080/"
        },
        "id": "pOu3HonOlpCf",
        "outputId": "ff9dba33-52a8-4340-9a15-32f6f1da75e9"
      },
      "execution_count": 27,
      "outputs": [
        {
          "output_type": "stream",
          "name": "stderr",
          "text": [
            "[nltk_data] Downloading package movie_reviews to /root/nltk_data...\n",
            "[nltk_data]   Package movie_reviews is already up-to-date!\n"
          ]
        },
        {
          "output_type": "stream",
          "name": "stdout",
          "text": [
            "0.78\n",
            "Most Informative Features\n",
            "   contains(outstanding) = True              pos : neg    =     13.4 : 1.0\n",
            "         contains(mulan) = True              pos : neg    =      8.9 : 1.0\n",
            "        contains(seagal) = True              neg : pos    =      7.8 : 1.0\n",
            "         contains(damon) = True              pos : neg    =      7.8 : 1.0\n",
            "   contains(wonderfully) = True              pos : neg    =      6.7 : 1.0\n"
          ]
        }
      ]
    }
  ]
}