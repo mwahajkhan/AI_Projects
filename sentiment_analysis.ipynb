{
  "nbformat": 4,
  "nbformat_minor": 0,
  "metadata": {
    "colab": {
      "provenance": [],
      "authorship_tag": "ABX9TyP5m5mR1H4rCAQzxvK9g/nI",
      "include_colab_link": true
    },
    "kernelspec": {
      "name": "python3",
      "display_name": "Python 3"
    },
    "language_info": {
      "name": "python"
    }
  },
  "cells": [
    {
      "cell_type": "markdown",
      "metadata": {
        "id": "view-in-github",
        "colab_type": "text"
      },
      "source": [
        "<a href=\"https://colab.research.google.com/github/mwahajkhan/AI_Projects/blob/main/sentiment_analysis.ipynb\" target=\"_parent\"><img src=\"https://colab.research.google.com/assets/colab-badge.svg\" alt=\"Open In Colab\"/></a>"
      ]
    },
    {
      "cell_type": "markdown",
      "source": [
        "NLTK (Natural Language Toolkit\n",
        "> Text Processing\n",
        "> Classification\n",
        "> Tagging\n",
        "> Pasrsing\n",
        "> Semantic Reasoning\n",
        "\n",
        "Sentiment Analysis Model\n",
        "> Preprocess the text\n",
        "> Extract features\n",
        "> Train a classifier\n",
        "> Evaluate the classifier"
      ],
      "metadata": {
        "id": "Pdrt9h5PR25B"
      }
    },
    {
      "cell_type": "code",
      "execution_count": 11,
      "metadata": {
        "id": "PX9wMDFoRm86"
      },
      "outputs": [],
      "source": [
        "import nltk\n",
        "from nltk.sentiment import SentimentIntensityAnalyzer"
      ]
    },
    {
      "cell_type": "markdown",
      "source": [
        "Vader_lexicon\n",
        "\n",
        "> List of lexical features either positive or negative, based on semantic orientation."
      ],
      "metadata": {
        "id": "dBniBvVXS4Un"
      }
    },
    {
      "cell_type": "code",
      "source": [
        "#Download the vader_lexicon package\n",
        "nltk.download('vader_lexicon')"
      ],
      "metadata": {
        "colab": {
          "base_uri": "https://localhost:8080/"
        },
        "id": "4XlX_GrQR1jN",
        "outputId": "2b651a8e-6edb-48ba-8583-539b89650284"
      },
      "execution_count": 12,
      "outputs": [
        {
          "output_type": "stream",
          "name": "stderr",
          "text": [
            "[nltk_data] Downloading package vader_lexicon to /root/nltk_data...\n",
            "[nltk_data]   Package vader_lexicon is already up-to-date!\n"
          ]
        },
        {
          "output_type": "execute_result",
          "data": {
            "text/plain": [
              "True"
            ]
          },
          "metadata": {},
          "execution_count": 12
        }
      ]
    },
    {
      "cell_type": "markdown",
      "source": [
        "Making the txt_analyzer function to take in inputs and output sentiment scores.\n",
        "\n",
        "Class first rule is initialized by SIA, which uses polarity scores.\n",
        "\n",
        "Used .polarity_scores method in order to work out the sentiment score"
      ],
      "metadata": {
        "id": "5coatV5UT-uZ"
      }
    },
    {
      "cell_type": "code",
      "source": [
        "def analyze_sentiment(text):\n",
        "  #Initialize the vader sentiment intensity analyzer\n",
        "  sia = SentimentIntensityAnalyzer()\n",
        "\n",
        "  #Compute and print the sentiment scores\n",
        "  sentiment = sia.polarity_scores(text)\n",
        "  print(sentiment)\n",
        "\n"
      ],
      "metadata": {
        "id": "FBNG1J6DTnbL"
      },
      "execution_count": 13,
      "outputs": []
    },
    {
      "cell_type": "markdown",
      "source": [
        "Following are the scores:"
      ],
      "metadata": {
        "id": "70OPdVD0UoiG"
      }
    },
    {
      "cell_type": "code",
      "source": [
        "analyze_sentiment(\"NLTK is a natural language processing language.\")"
      ],
      "metadata": {
        "colab": {
          "base_uri": "https://localhost:8080/"
        },
        "id": "pJhSI9JfUNho",
        "outputId": "17ce1547-3f18-4cdc-c824-7e5eee77b54e"
      },
      "execution_count": 14,
      "outputs": [
        {
          "output_type": "stream",
          "name": "stdout",
          "text": [
            "{'neg': 0.0, 'neu': 0.667, 'pos': 0.333, 'compound': 0.3612}\n"
          ]
        }
      ]
    },
    {
      "cell_type": "code",
      "source": [],
      "metadata": {
        "id": "vhlyHmqHUyZh"
      },
      "execution_count": null,
      "outputs": []
    }
  ]
}